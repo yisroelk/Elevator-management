{
 "cells": [
  {
   "cell_type": "code",
   "execution_count": 42,
   "metadata": {},
   "outputs": [],
   "source": [
    "\n",
    "\n",
    "class elevator:\n",
    "\n",
    "\n",
    "    def __init__(self):\n",
    "        self.availability_time = 10\n",
    "        self.destination_floor = []\n",
    "        self.availability_floor = 7\n",
    "        self.current_floor = None\n",
    "        self.current_time = 0\n",
    "\n",
    "        \n",
    "    def set_destination(self):\n",
    "        #self.destination_floor.append(floor)\n",
    "        # return destination_floor\n",
    "        return self.availability_time\n",
    "\n",
    "    def set_availability(self, floor):\n",
    "        #self.availability_time += # parameter from the main function, or dlobal veriable what seved the time from the main function\n",
    "        self.availability_floor = floor\n",
    "\n",
    "\n",
    "    def manager(self):\n",
    "        \n",
    "\n",
    "\n",
    "        pass\n",
    "\n",
    "#x1 = elevator()\n",
    "#a = x1.set_destination(floor=8)\n",
    "#print(x1.fifo)\n"
   ]
  },
  {
   "cell_type": "code",
   "execution_count": null,
   "metadata": {},
   "outputs": [],
   "source": []
  },
  {
   "cell_type": "code",
   "execution_count": 60,
   "metadata": {},
   "outputs": [
    {
     "name": "stdout",
     "output_type": "stream",
     "text": [
      "3\n",
      "3\n",
      "0 2\n",
      "1 2\n"
     ]
    }
   ],
   "source": [
    "floor = []\n",
    "# for i in range(0, 21):\n",
    "#     floor.append(i)\n",
    "# print(floor)\n",
    "# for i in range(0, 21):\n",
    "#    floor.append(elevator)\n",
    "\n",
    "# print(floor)\n",
    "\n",
    "for i in range(0,2):\n",
    "    floor.append(elevator())\n",
    "    print(3)\n",
    "\n",
    "for i in range(0, len(floor)):\n",
    "    print(str(i) + ' 2')\n",
    "\n",
    "# for i in range(len(floor)):\n",
    "#     print(floor[i])\n",
    "\n",
    "# print(floor[3].set_destination())\n",
    "\n",
    "\n",
    "\n",
    "\n"
   ]
  },
  {
   "cell_type": "code",
   "execution_count": 5,
   "metadata": {},
   "outputs": [
    {
     "name": "stdout",
     "output_type": "stream",
     "text": [
      "pygame 2.5.2 (SDL 2.28.3, Python 3.12.3)\n",
      "Hello from the pygame community. https://www.pygame.org/contribute.html\n"
     ]
    },
    {
     "ename": "error",
     "evalue": "font not initialized",
     "output_type": "error",
     "traceback": [
      "\u001b[1;31m---------------------------------------------------------------------------\u001b[0m",
      "\u001b[1;31merror\u001b[0m                                     Traceback (most recent call last)",
      "Cell \u001b[1;32mIn[5], line 3\u001b[0m\n\u001b[0;32m      1\u001b[0m \u001b[38;5;28;01mimport\u001b[39;00m \u001b[38;5;21;01mpygame\u001b[39;00m\n\u001b[1;32m----> 3\u001b[0m font \u001b[38;5;241m=\u001b[39m \u001b[43mpygame\u001b[49m\u001b[38;5;241;43m.\u001b[39;49m\u001b[43mfont\u001b[49m\u001b[38;5;241;43m.\u001b[39;49m\u001b[43mFont\u001b[49m\u001b[43m(\u001b[49m\u001b[38;5;124;43m'\u001b[39;49m\u001b[38;5;124;43marial.ttf\u001b[39;49m\u001b[38;5;124;43m'\u001b[39;49m\u001b[43m,\u001b[49m\u001b[43m \u001b[49m\u001b[38;5;241;43m12\u001b[39;49m\u001b[43m)\u001b[49m\n\u001b[0;32m      4\u001b[0m text \u001b[38;5;241m=\u001b[39m font\u001b[38;5;241m.\u001b[39mrender(\u001b[38;5;124m'\u001b[39m\u001b[38;5;124m10\u001b[39m\u001b[38;5;124m'\u001b[39m, \u001b[38;5;28;01mTrue\u001b[39;00m, (\u001b[38;5;241m255\u001b[39m, \u001b[38;5;241m0\u001b[39m, \u001b[38;5;241m0\u001b[39m), \u001b[38;5;28;01mNone\u001b[39;00m)\n\u001b[0;32m      5\u001b[0m \u001b[38;5;28mprint\u001b[39m(text)\n",
      "\u001b[1;31merror\u001b[0m: font not initialized"
     ]
    }
   ],
   "source": [
    "import pygame\n",
    "\n",
    "font = pygame.font.Font('arial.ttf', 12)\n",
    "text = font.render('10', True, (255, 0, 0), None)\n",
    "print(text)"
   ]
  },
  {
   "cell_type": "code",
   "execution_count": 7,
   "metadata": {},
   "outputs": [
    {
     "name": "stdout",
     "output_type": "stream",
     "text": [
      "2\n"
     ]
    }
   ],
   "source": [
    "x = 0\n",
    "for i in range(5):\n",
    "    if i < 3:\n",
    "        x = i\n",
    "print(x)"
   ]
  }
 ],
 "metadata": {
  "kernelspec": {
   "display_name": "Python 3",
   "language": "python",
   "name": "python3"
  },
  "language_info": {
   "codemirror_mode": {
    "name": "ipython",
    "version": 3
   },
   "file_extension": ".py",
   "mimetype": "text/x-python",
   "name": "python",
   "nbconvert_exporter": "python",
   "pygments_lexer": "ipython3",
   "version": "3.12.3"
  }
 },
 "nbformat": 4,
 "nbformat_minor": 2
}
